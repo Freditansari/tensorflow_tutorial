{
 "cells": [
  {
   "cell_type": "code",
   "execution_count": 1,
   "metadata": {},
   "outputs": [
    {
     "name": "stderr",
     "output_type": "stream",
     "text": [
      "C:\\Users\\fredy\\anaconda3\\envs\\gpu-python\\lib\\site-packages\\pandas_datareader\\compat\\__init__.py:7: FutureWarning: pandas.util.testing is deprecated. Use the functions in the public API at pandas.testing instead.\n",
      "  from pandas.util.testing import assert_frame_equal\n"
     ]
    }
   ],
   "source": [
    "import numpy as np \n",
    "import pandas as pd \n",
    "import matplotlib.pyplot as plt\n",
    "import pandas_datareader.data as web\n",
    "import seaborn as sns\n",
    "from sklearn import linear_model\n",
    "from sklearn import preprocessing;\n",
    "from sklearn.model_selection import cross_validate as cross_validation\n",
    "from sklearn.model_selection import train_test_split\n",
    "from sklearn.linear_model import LinearRegression\n",
    "\n",
    "# %matplotlib inline\n",
    "plt.show(block=True)"
   ]
  },
  {
   "cell_type": "code",
   "execution_count": 2,
   "metadata": {},
   "outputs": [],
   "source": [
    "import datetime\n",
    "from datetime import timedelta\n",
    "forecast_out = 365 #Days from now\n",
    "\n",
    "stock_ticker ='AMZN'\n",
    "\n",
    "end = datetime.datetime.now()#-timedelta(7) #remove timedetla -1 to go to productions mode\n",
    "start = datetime.datetime.now()-timedelta(3650)\n",
    "\n",
    "# benchmark = web.DataReader(stock_ticker, 'yahoo', start, end )\n",
    "stock = web.DataReader(stock_ticker, 'yahoo', start, end)"
   ]
  },
  {
   "cell_type": "code",
   "execution_count": 3,
   "metadata": {},
   "outputs": [
    {
     "data": {
      "text/html": [
       "<div>\n",
       "<style scoped>\n",
       "    .dataframe tbody tr th:only-of-type {\n",
       "        vertical-align: middle;\n",
       "    }\n",
       "\n",
       "    .dataframe tbody tr th {\n",
       "        vertical-align: top;\n",
       "    }\n",
       "\n",
       "    .dataframe thead th {\n",
       "        text-align: right;\n",
       "    }\n",
       "</style>\n",
       "<table border=\"1\" class=\"dataframe\">\n",
       "  <thead>\n",
       "    <tr style=\"text-align: right;\">\n",
       "      <th></th>\n",
       "      <th>High</th>\n",
       "      <th>Low</th>\n",
       "      <th>Open</th>\n",
       "      <th>Close</th>\n",
       "      <th>Volume</th>\n",
       "      <th>Adj Close</th>\n",
       "    </tr>\n",
       "    <tr>\n",
       "      <th>Date</th>\n",
       "      <th></th>\n",
       "      <th></th>\n",
       "      <th></th>\n",
       "      <th></th>\n",
       "      <th></th>\n",
       "      <th></th>\n",
       "    </tr>\n",
       "  </thead>\n",
       "  <tbody>\n",
       "    <tr>\n",
       "      <th>2010-05-04</th>\n",
       "      <td>135.809998</td>\n",
       "      <td>128.380005</td>\n",
       "      <td>135.619995</td>\n",
       "      <td>129.830002</td>\n",
       "      <td>12667800</td>\n",
       "      <td>129.830002</td>\n",
       "    </tr>\n",
       "    <tr>\n",
       "      <th>2010-05-05</th>\n",
       "      <td>131.610001</td>\n",
       "      <td>127.550003</td>\n",
       "      <td>128.000000</td>\n",
       "      <td>130.929993</td>\n",
       "      <td>9458100</td>\n",
       "      <td>130.929993</td>\n",
       "    </tr>\n",
       "    <tr>\n",
       "      <th>2010-05-06</th>\n",
       "      <td>132.330002</td>\n",
       "      <td>120.599998</td>\n",
       "      <td>130.000000</td>\n",
       "      <td>128.710007</td>\n",
       "      <td>10189000</td>\n",
       "      <td>128.710007</td>\n",
       "    </tr>\n",
       "    <tr>\n",
       "      <th>2010-05-07</th>\n",
       "      <td>131.179993</td>\n",
       "      <td>123.760002</td>\n",
       "      <td>127.970001</td>\n",
       "      <td>124.980003</td>\n",
       "      <td>11927600</td>\n",
       "      <td>124.980003</td>\n",
       "    </tr>\n",
       "    <tr>\n",
       "      <th>2010-05-10</th>\n",
       "      <td>132.210007</td>\n",
       "      <td>129.259995</td>\n",
       "      <td>129.729996</td>\n",
       "      <td>131.289993</td>\n",
       "      <td>6806100</td>\n",
       "      <td>131.289993</td>\n",
       "    </tr>\n",
       "    <tr>\n",
       "      <th>...</th>\n",
       "      <td>...</td>\n",
       "      <td>...</td>\n",
       "      <td>...</td>\n",
       "      <td>...</td>\n",
       "      <td>...</td>\n",
       "      <td>...</td>\n",
       "    </tr>\n",
       "    <tr>\n",
       "      <th>2020-04-27</th>\n",
       "      <td>2444.879883</td>\n",
       "      <td>2363.000000</td>\n",
       "      <td>2443.199951</td>\n",
       "      <td>2376.000000</td>\n",
       "      <td>5645600</td>\n",
       "      <td>2376.000000</td>\n",
       "    </tr>\n",
       "    <tr>\n",
       "      <th>2020-04-28</th>\n",
       "      <td>2373.500000</td>\n",
       "      <td>2306.000000</td>\n",
       "      <td>2372.100098</td>\n",
       "      <td>2314.080078</td>\n",
       "      <td>5269400</td>\n",
       "      <td>2314.080078</td>\n",
       "    </tr>\n",
       "    <tr>\n",
       "      <th>2020-04-29</th>\n",
       "      <td>2391.889893</td>\n",
       "      <td>2310.000000</td>\n",
       "      <td>2330.010010</td>\n",
       "      <td>2372.709961</td>\n",
       "      <td>4591600</td>\n",
       "      <td>2372.709961</td>\n",
       "    </tr>\n",
       "    <tr>\n",
       "      <th>2020-04-30</th>\n",
       "      <td>2475.000000</td>\n",
       "      <td>2396.010010</td>\n",
       "      <td>2419.840088</td>\n",
       "      <td>2474.000000</td>\n",
       "      <td>9415000</td>\n",
       "      <td>2474.000000</td>\n",
       "    </tr>\n",
       "    <tr>\n",
       "      <th>2020-05-01</th>\n",
       "      <td>2355.810059</td>\n",
       "      <td>2325.000000</td>\n",
       "      <td>2419.840088</td>\n",
       "      <td>2354.000000</td>\n",
       "      <td>729227</td>\n",
       "      <td>2354.000000</td>\n",
       "    </tr>\n",
       "  </tbody>\n",
       "</table>\n",
       "<p>2517 rows × 6 columns</p>\n",
       "</div>"
      ],
      "text/plain": [
       "                   High          Low         Open        Close    Volume  \\\n",
       "Date                                                                       \n",
       "2010-05-04   135.809998   128.380005   135.619995   129.830002  12667800   \n",
       "2010-05-05   131.610001   127.550003   128.000000   130.929993   9458100   \n",
       "2010-05-06   132.330002   120.599998   130.000000   128.710007  10189000   \n",
       "2010-05-07   131.179993   123.760002   127.970001   124.980003  11927600   \n",
       "2010-05-10   132.210007   129.259995   129.729996   131.289993   6806100   \n",
       "...                 ...          ...          ...          ...       ...   \n",
       "2020-04-27  2444.879883  2363.000000  2443.199951  2376.000000   5645600   \n",
       "2020-04-28  2373.500000  2306.000000  2372.100098  2314.080078   5269400   \n",
       "2020-04-29  2391.889893  2310.000000  2330.010010  2372.709961   4591600   \n",
       "2020-04-30  2475.000000  2396.010010  2419.840088  2474.000000   9415000   \n",
       "2020-05-01  2355.810059  2325.000000  2419.840088  2354.000000    729227   \n",
       "\n",
       "              Adj Close  \n",
       "Date                     \n",
       "2010-05-04   129.830002  \n",
       "2010-05-05   130.929993  \n",
       "2010-05-06   128.710007  \n",
       "2010-05-07   124.980003  \n",
       "2010-05-10   131.289993  \n",
       "...                 ...  \n",
       "2020-04-27  2376.000000  \n",
       "2020-04-28  2314.080078  \n",
       "2020-04-29  2372.709961  \n",
       "2020-04-30  2474.000000  \n",
       "2020-05-01  2354.000000  \n",
       "\n",
       "[2517 rows x 6 columns]"
      ]
     },
     "execution_count": 3,
     "metadata": {},
     "output_type": "execute_result"
    }
   ],
   "source": [
    "stock"
   ]
  },
  {
   "cell_type": "code",
   "execution_count": 4,
   "metadata": {},
   "outputs": [],
   "source": [
    "test_size=20\n",
    "test_index = len(stock['Adj Close'])- test_size"
   ]
  },
  {
   "cell_type": "code",
   "execution_count": 5,
   "metadata": {},
   "outputs": [],
   "source": [
    "train = stock['Adj Close'].iloc[:test_index]\n",
    "test= stock['Adj Close'].iloc[test_index:]\n"
   ]
  },
  {
   "cell_type": "code",
   "execution_count": 6,
   "metadata": {},
   "outputs": [],
   "source": [
    "from sklearn.preprocessing import MinMaxScaler"
   ]
  },
  {
   "cell_type": "code",
   "execution_count": 7,
   "metadata": {},
   "outputs": [],
   "source": [
    "scaler=MinMaxScaler()"
   ]
  },
  {
   "cell_type": "code",
   "execution_count": 8,
   "metadata": {},
   "outputs": [
    {
     "data": {
      "text/plain": [
       "MinMaxScaler(copy=True, feature_range=(0, 1))"
      ]
     },
     "execution_count": 8,
     "metadata": {},
     "output_type": "execute_result"
    }
   ],
   "source": [
    "scaler.fit(train.to_frame())"
   ]
  },
  {
   "cell_type": "code",
   "execution_count": 9,
   "metadata": {},
   "outputs": [],
   "source": [
    "scaled_train = scaler.transform(train.to_frame())"
   ]
  },
  {
   "cell_type": "code",
   "execution_count": 10,
   "metadata": {},
   "outputs": [],
   "source": [
    "scaled_test = scaler.transform(test.to_frame())"
   ]
  },
  {
   "cell_type": "code",
   "execution_count": null,
   "metadata": {},
   "outputs": [],
   "source": []
  },
  {
   "cell_type": "code",
   "execution_count": 12,
   "metadata": {},
   "outputs": [],
   "source": [
    "from tensorflow.keras.preprocessing.sequence import TimeseriesGenerator"
   ]
  },
  {
   "cell_type": "code",
   "execution_count": 13,
   "metadata": {},
   "outputs": [
    {
     "data": {
      "text/plain": [
       "20"
      ]
     },
     "execution_count": 13,
     "metadata": {},
     "output_type": "execute_result"
    }
   ],
   "source": [
    "len(test)"
   ]
  },
  {
   "cell_type": "code",
   "execution_count": 14,
   "metadata": {},
   "outputs": [],
   "source": [
    "length=19\n",
    "generator = TimeseriesGenerator(scaled_train,scaled_train, length=length, batch_size=1)"
   ]
  },
  {
   "cell_type": "code",
   "execution_count": 15,
   "metadata": {},
   "outputs": [],
   "source": [
    "from tensorflow.keras.models import Sequential"
   ]
  },
  {
   "cell_type": "code",
   "execution_count": 16,
   "metadata": {},
   "outputs": [],
   "source": [
    "from tensorflow.keras.layers import Dense, LSTM, Dropout"
   ]
  },
  {
   "cell_type": "code",
   "execution_count": 17,
   "metadata": {},
   "outputs": [],
   "source": [
    "n_features =1"
   ]
  },
  {
   "cell_type": "code",
   "execution_count": 18,
   "metadata": {},
   "outputs": [],
   "source": [
    "model= Sequential()\n",
    "model.add(LSTM(50, activation='relu', input_shape=(length, n_features)))\n",
    "model.add(Dropout(0.5))\n",
    "model.add(Dense(10, activation='relu'))\n",
    "# model.add(CuDNNLSTM(100, activation='relu', input_shape=(length, n_features)))\n",
    "model.add(Dense(1))\n",
    "model.compile(optimizer='adam', loss='mse')"
   ]
  },
  {
   "cell_type": "code",
   "execution_count": 19,
   "metadata": {},
   "outputs": [
    {
     "name": "stdout",
     "output_type": "stream",
     "text": [
      "Model: \"sequential\"\n",
      "_________________________________________________________________\n",
      "Layer (type)                 Output Shape              Param #   \n",
      "=================================================================\n",
      "lstm (LSTM)                  (None, 50)                10400     \n",
      "_________________________________________________________________\n",
      "dropout (Dropout)            (None, 50)                0         \n",
      "_________________________________________________________________\n",
      "dense (Dense)                (None, 10)                510       \n",
      "_________________________________________________________________\n",
      "dense_1 (Dense)              (None, 1)                 11        \n",
      "=================================================================\n",
      "Total params: 10,921\n",
      "Trainable params: 10,921\n",
      "Non-trainable params: 0\n",
      "_________________________________________________________________\n"
     ]
    }
   ],
   "source": [
    "model.summary()"
   ]
  },
  {
   "cell_type": "code",
   "execution_count": 20,
   "metadata": {},
   "outputs": [],
   "source": [
    "from tensorflow.keras.callbacks import EarlyStopping"
   ]
  },
  {
   "cell_type": "code",
   "execution_count": 21,
   "metadata": {},
   "outputs": [],
   "source": [
    "early_stop = EarlyStopping(monitor='val_loss', patience=2)"
   ]
  },
  {
   "cell_type": "code",
   "execution_count": 22,
   "metadata": {},
   "outputs": [],
   "source": [
    "validation_generator= TimeseriesGenerator(scaled_test, scaled_test,\n",
    "                                          length=length, batch_size =1)"
   ]
  },
  {
   "cell_type": "code",
   "execution_count": 23,
   "metadata": {
    "scrolled": true
   },
   "outputs": [
    {
     "name": "stdout",
     "output_type": "stream",
     "text": [
      "WARNING:tensorflow:From <ipython-input-23-a1bb33b40d90>:4: Model.fit_generator (from tensorflow.python.keras.engine.training) is deprecated and will be removed in a future version.\n",
      "Instructions for updating:\n",
      "Please use Model.fit, which supports generators.\n",
      "WARNING:tensorflow:sample_weight modes were coerced from\n",
      "  ...\n",
      "    to  \n",
      "  ['...']\n",
      "WARNING:tensorflow:sample_weight modes were coerced from\n",
      "  ...\n",
      "    to  \n",
      "  ['...']\n",
      "Train for 2478 steps, validate for 1 steps\n",
      "Epoch 1/2\n",
      "2478/2478 [==============================] - 45s 18ms/step - loss: 0.0087 - val_loss: 0.0519\n",
      "Epoch 2/2\n",
      "2478/2478 [==============================] - 43s 18ms/step - loss: 0.0038 - val_loss: 0.1232\n"
     ]
    },
    {
     "data": {
      "text/plain": [
       "<tensorflow.python.keras.callbacks.History at 0x268a9cdaa48>"
      ]
     },
     "execution_count": 23,
     "metadata": {},
     "output_type": "execute_result"
    }
   ],
   "source": [
    "# model.fit_generator(generator, epochs=20\n",
    "#                    validation_data=validation_generator, callbacks=[early_stop])\n",
    "model.fit_generator(generator, epochs=20,\n",
    "                   validation_data=validation_generator, callbacks=[early_stop])"
   ]
  },
  {
   "cell_type": "code",
   "execution_count": 23,
   "metadata": {},
   "outputs": [],
   "source": [
    "import tensorflow as tf\n",
    "tf.keras.backend.clear_session()"
   ]
  },
  {
   "cell_type": "code",
   "execution_count": 28,
   "metadata": {},
   "outputs": [
    {
     "name": "stdout",
     "output_type": "stream",
     "text": [
      "<class 'pandas.core.frame.DataFrame'>\n",
      "RangeIndex: 2 entries, 0 to 1\n",
      "Data columns (total 2 columns):\n",
      " #   Column    Non-Null Count  Dtype  \n",
      "---  ------    --------------  -----  \n",
      " 0   loss      2 non-null      float64\n",
      " 1   val_loss  2 non-null      float64\n",
      "dtypes: float64(2)\n",
      "memory usage: 160.0 bytes\n"
     ]
    }
   ],
   "source": [
    "losses= pd.DataFrame(model.history.history)\n",
    "losses.plot()"
   ]
  },
  {
   "cell_type": "code",
   "execution_count": null,
   "metadata": {},
   "outputs": [],
   "source": [
    "test_predictions =[]\n",
    "first_eval_batch = scaled_train[-length:]\n",
    "current_batch = first_eval_batch.reshape((1, length, n_features))\n",
    "for i in range(len(test)):\n",
    "    current_pred = model.predict(current_batch)[0]\n",
    "    test_predictions.append(current_pred)\n",
    "    current_batch = np.append(current_batch[:,1:,:],[[current_pred]], axis=1)"
   ]
  },
  {
   "cell_type": "code",
   "execution_count": null,
   "metadata": {},
   "outputs": [],
   "source": [
    "true_predictions =scaler.inverse_transform(test_predictions)\n"
   ]
  },
  {
   "cell_type": "code",
   "execution_count": null,
   "metadata": {},
   "outputs": [],
   "source": [
    "predictions = pd.DataFrame(test)\n",
    "# predictions['Test set'] = test.to_frame()"
   ]
  },
  {
   "cell_type": "code",
   "execution_count": null,
   "metadata": {},
   "outputs": [],
   "source": [
    "# test['Predictions'] = true_predictions\n",
    "predictions['Predictions'] = true_predictions"
   ]
  },
  {
   "cell_type": "code",
   "execution_count": null,
   "metadata": {},
   "outputs": [],
   "source": [
    "predictions.plot(figsize=(12,8))"
   ]
  },
  {
   "cell_type": "code",
   "execution_count": null,
   "metadata": {},
   "outputs": [],
   "source": []
  }
 ],
 "metadata": {
  "kernelspec": {
   "display_name": "gpu-python",
   "language": "python",
   "name": "gpu-python"
  },
  "language_info": {
   "codemirror_mode": {
    "name": "ipython",
    "version": 3
   },
   "file_extension": ".py",
   "mimetype": "text/x-python",
   "name": "python",
   "nbconvert_exporter": "python",
   "pygments_lexer": "ipython3",
   "version": "3.7.7"
  }
 },
 "nbformat": 4,
 "nbformat_minor": 4
}
